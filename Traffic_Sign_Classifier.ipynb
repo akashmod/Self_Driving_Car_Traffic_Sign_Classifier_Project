{
 "cells": [
  {
   "cell_type": "markdown",
   "metadata": {},
   "source": [
    "# Self-Driving Car Engineer Nanodegree\n",
    "\n",
    "## Deep Learning\n",
    "\n",
    "## Project: Build a Traffic Sign Recognition Classifier\n",
    "\n",
    "In this notebook, a template is provided for you to implement your functionality in stages, which is required to successfully complete this project. If additional code is required that cannot be included in the notebook, be sure that the Python code is successfully imported and included in your submission if necessary. \n",
    "\n",
    "> **Note**: Once you have completed all of the code implementations, you need to finalize your work by exporting the iPython Notebook as an HTML document. Before exporting the notebook to html, all of the code cells need to have been run so that reviewers can see the final implementation and output. You can then export the notebook by using the menu above and navigating to  \\n\",\n",
    "    \"**File -> Download as -> HTML (.html)**. Include the finished document along with this notebook as your submission. \n",
    "\n",
    "In addition to implementing code, there is a writeup to complete. The writeup should be completed in a separate file, which can be either a markdown file or a pdf document. There is a [write up template](https://github.com/udacity/CarND-Traffic-Sign-Classifier-Project/blob/master/writeup_template.md) that can be used to guide the writing process. Completing the code template and writeup template will cover all of the [rubric points](https://review.udacity.com/#!/rubrics/481/view) for this project.\n",
    "\n",
    "The [rubric](https://review.udacity.com/#!/rubrics/481/view) contains \"Stand Out Suggestions\" for enhancing the project beyond the minimum requirements. The stand out suggestions are optional. If you decide to pursue the \"stand out suggestions\", you can include the code in this Ipython notebook and also discuss the results in the writeup file.\n",
    "\n",
    "\n",
    ">**Note:** Code and Markdown cells can be executed using the **Shift + Enter** keyboard shortcut. In addition, Markdown cells can be edited by typically double-clicking the cell to enter edit mode."
   ]
  },
  {
   "cell_type": "markdown",
   "metadata": {},
   "source": [
    "---\n",
    "## Step 0: Load The Data"
   ]
  },
  {
   "cell_type": "code",
   "execution_count": 11,
   "metadata": {},
   "outputs": [
    {
     "name": "stdout",
     "output_type": "stream",
     "text": [
      "All data loaded\n"
     ]
    }
   ],
   "source": [
    "# Load pickled data\n",
    "import pickle\n",
    "import tensorflow as tf\n",
    "\n",
    "# TODO: Fill this in based on where you saved the training and testing data\n",
    "\n",
    "training_file ='C:/Users/Akash/train.p'\n",
    "validation_file='C:/Users/Akash/valid.p'\n",
    "testing_file = 'C:/Users/Akash/test.p'\n",
    "\n",
    "with open(training_file, mode='rb') as f:\n",
    "    train = pickle.load(f)\n",
    "with open(validation_file, mode='rb') as f:\n",
    "    valid = pickle.load(f)\n",
    "with open(testing_file, mode='rb') as f:\n",
    "    test = pickle.load(f)\n",
    "    \n",
    "X_train, y_train = train['features'], train['labels']\n",
    "X_valid, y_valid = valid['features'], valid['labels']\n",
    "X_test, y_test = test['features'], test['labels']\n",
    "print(\"All data loaded\")"
   ]
  },
  {
   "cell_type": "markdown",
   "metadata": {},
   "source": [
    "---\n",
    "\n",
    "## Step 1: Dataset Summary & Exploration\n",
    "\n",
    "The pickled data is a dictionary with 4 key/value pairs:\n",
    "\n",
    "- `'features'` is a 4D array containing raw pixel data of the traffic sign images, (num examples, width, height, channels).\n",
    "- `'labels'` is a 1D array containing the label/class id of the traffic sign. The file `signnames.csv` contains id -> name mappings for each id.\n",
    "- `'sizes'` is a list containing tuples, (width, height) representing the original width and height the image.\n",
    "- `'coords'` is a list containing tuples, (x1, y1, x2, y2) representing coordinates of a bounding box around the sign in the image. **THESE COORDINATES ASSUME THE ORIGINAL IMAGE. THE PICKLED DATA CONTAINS RESIZED VERSIONS (32 by 32) OF THESE IMAGES**\n",
    "\n",
    "Complete the basic data summary below. Use python, numpy and/or pandas methods to calculate the data summary rather than hard coding the results. For example, the [pandas shape method](http://pandas.pydata.org/pandas-docs/stable/generated/pandas.DataFrame.shape.html) might be useful for calculating some of the summary results. "
   ]
  },
  {
   "cell_type": "markdown",
   "metadata": {},
   "source": [
    "### Provide a Basic Summary of the Data Set Using Python, Numpy and/or Pandas"
   ]
  },
  {
   "cell_type": "code",
   "execution_count": 12,
   "metadata": {},
   "outputs": [
    {
     "name": "stdout",
     "output_type": "stream",
     "text": [
      "Number of training examples = (34799,)\n",
      "Number of validation examples= (4410,)\n",
      "Number of testing examples = (12630,)\n",
      "Image data shape = [32, 32]\n",
      "Number of classes = 43\n"
     ]
    }
   ],
   "source": [
    "### Replace each question mark with the appropriate value. \n",
    "### Use python, pandas or numpy methods rather than hard coding the results\n",
    "\n",
    "# TODO: Number of training examples\n",
    "n_train = y_train.shape\n",
    "\n",
    "# TODO: Number of validation examples\n",
    "n_validation = y_valid.shape\n",
    "\n",
    "# TODO: Number of testing examples.\n",
    "n_test = y_test.shape\n",
    "\n",
    "# TODO: What's the shape of an traffic sign image?\n",
    "image_shape = [32,32]\n",
    "\n",
    "# TODO: How many unique classes/labels there are in the dataset.\n",
    "classes=list(set(y_train))\n",
    "n_classes=(len(classes))\n",
    "\n",
    "X_img_test=[]\n",
    "\n",
    "print(\"Number of training examples =\", n_train)\n",
    "print(\"Number of validation examples=\", n_validation)\n",
    "print(\"Number of testing examples =\", n_test)\n",
    "print(\"Image data shape =\", image_shape)\n",
    "print(\"Number of classes =\", n_classes)"
   ]
  },
  {
   "cell_type": "markdown",
   "metadata": {},
   "source": [
    "### Include an exploratory visualization of the dataset"
   ]
  },
  {
   "cell_type": "markdown",
   "metadata": {},
   "source": [
    "Visualize the German Traffic Signs Dataset using the pickled file(s). This is open ended, suggestions include: plotting traffic sign images, plotting the count of each sign, etc. \n",
    "\n",
    "The [Matplotlib](http://matplotlib.org/) [examples](http://matplotlib.org/examples/index.html) and [gallery](http://matplotlib.org/gallery.html) pages are a great resource for doing visualizations in Python.\n",
    "\n",
    "**NOTE:** It's recommended you start with something simple first. If you wish to do more, come back to it after you've completed the rest of the sections. It can be interesting to look at the distribution of classes in the training, validation and test set. Is the distribution the same? Are there more examples of some classes than others?"
   ]
  },
  {
   "cell_type": "code",
   "execution_count": 69,
   "metadata": {},
   "outputs": [
    {
     "data": {
      "image/png": "[encoded data removed]",
      "text/plain": [
       "<matplotlib.figure.Figure at 0x156d2eb8>"
      ]
     },
     "metadata": {},
     "output_type": "display_data"
    },
    {
     "data": {
      "image/png": "[encoded data removed]",
      "text/plain": [
       "<matplotlib.figure.Figure at 0x12a6b668>"
      ]
     },
     "metadata": {},
     "output_type": "display_data"
    }
   ],
   "source": [
    "### Data exploration visualization code goes here.\n",
    "### Feel free to use as many code cells as needed.\n",
    "import matplotlib.pyplot as plt\n",
    "import numpy as np\n",
    "# Visualizations will be shown in the notebook.\n",
    "plt.imshow(X_test[34])\n",
    "plt.show()\n",
    "count=[]\n",
    "from collections import Counter\n",
    "a=np.bincount(y_train)\n",
    "b=np.arange(43)\n",
    "plt.bar(b,a,0.67,align=\"center\",color=\"blue\")\n",
    "plt.xlabel('classes')\n",
    "plt.ylabel('count of each class')\n",
    "plt.title('Count of each class in the training data')\n",
    "plt.show()\n",
    "%matplotlib inline"
   ]
  },
  {
   "cell_type": "markdown",
   "metadata": {},
   "source": [
    "----\n",
    "\n",
    "## Step 2: Design and Test a Model Architecture\n",
    "\n",
    "Design and implement a deep learning model that learns to recognize traffic signs. Train and test your model on the [German Traffic Sign Dataset](http://benchmark.ini.rub.de/?section=gtsrb&subsection=dataset).\n",
    "\n",
    "The LeNet-5 implementation shown in the [classroom](https://classroom.udacity.com/nanodegrees/nd013/parts/fbf77062-5703-404e-b60c-95b78b2f3f9e/modules/6df7ae49-c61c-4bb2-a23e-6527e69209ec/lessons/601ae704-1035-4287-8b11-e2c2716217ad/concepts/d4aca031-508f-4e0b-b493-e7b706120f81) at the end of the CNN lesson is a solid starting point. You'll have to change the number of classes and possibly the preprocessing, but aside from that it's plug and play! \n",
    "\n",
    "With the LeNet-5 solution from the lecture, you should expect a validation set accuracy of about 0.89. To meet specifications, the validation set accuracy will need to be at least 0.93. It is possible to get an even higher accuracy, but 0.93 is the minimum for a successful project submission. \n",
    "\n",
    "There are various aspects to consider when thinking about this problem:\n",
    "\n",
    "- Neural network architecture (is the network over or underfitting?)\n",
    "- Play around preprocessing techniques (normalization, rgb to grayscale, etc)\n",
    "- Number of examples per label (some have more than others).\n",
    "- Generate fake data.\n",
    "\n",
    "Here is an example of a [published baseline model on this problem](http://yann.lecun.com/exdb/publis/pdf/sermanet-ijcnn-11.pdf). It's not required to be familiar with the approach used in the paper but, it's good practice to try to read papers like these."
   ]
  },
  {
   "cell_type": "markdown",
   "metadata": {},
   "source": [
    "### Pre-process the Data Set (normalization, grayscale, etc.)"
   ]
  },
  {
   "cell_type": "markdown",
   "metadata": {},
   "source": [
    "Minimally, the image data should be normalized so that the data has mean zero and equal variance. For image data, `(pixel - 128)/ 128` is a quick way to approximately normalize the data and can be used in this project. \n",
    "\n",
    "Other pre-processing steps are optional. You can try different techniques to see if it improves performance. \n",
    "\n",
    "Use the code cell (or multiple code cells, if necessary) to implement the first step of your project."
   ]
  },
  {
   "cell_type": "code",
   "execution_count": 91,
   "metadata": {},
   "outputs": [
    {
     "name": "stdout",
     "output_type": "stream",
     "text": [
      "(32, 32)\n",
      "(34799, 32, 32)\n"
     ]
    },
    {
     "data": {
      "image/png": "[encoded data removed]",
      "text/plain": [
       "<matplotlib.figure.Figure at 0x11226c50>"
      ]
     },
     "metadata": {},
     "output_type": "display_data"
    },
    {
     "data": {
      "image/png": "[encoded data removed]",
      "text/plain": [
       "<matplotlib.figure.Figure at 0x114ce780>"
      ]
     },
     "metadata": {},
     "output_type": "display_data"
    }
   ],
   "source": [
    "### Preprocess the data here. It is required to normalize the data. Other preprocessing steps could include \n",
    "### converting to grayscale, etc.\n",
    "### Feel free to use as many code cells as needed.\n",
    "\n",
    "import numpy as np\n",
    "from numpy import zeros,newaxis\n",
    "#import scipy.ndimage\n",
    "#X_train_grey=zeros(n_train,32,32,1)\n",
    "#import scipy.misc\n",
    "X_train_grey=X_train[:,:,:,0]*0.299+X_train[:,:,:,1]*0.587+X_train[:,:,:,2]*0.114\n",
    "\n",
    "X_train_grey=(X_train_grey-128)/128\n",
    "#X_train_grey=X_train_grey.reshape(n_train,32,32,1)\n",
    "#X_train_grey=reshape(X_train_grey,(n_train,32,32,1))\n",
    "#X_train_grey=X_train_grey[:,:,:,newaxis]\n",
    "M = cv2.getRotationMatrix2D((16,16),90,1)\n",
    "dst = cv2.warpAffine(X_train_grey[0],M,(32,32))\n",
    "print(dst.shape)\n",
    "print(X_train_grey.shape)\n",
    "#X_train_rot=X_train_grey\n",
    "#print(X_train_grey.shape)\n",
    "#print(X_train_rot.shape)\n",
    "#for i in range(X_train_grey.shape[0]):\n",
    "    #print(X_train_grey[i])\n",
    "    #print(scipy.misc.imrotate(X_train_grey[i],0.26,interp='bilinear'))\n",
    "    #X_train_rot[i]=scipy.misc.imrotate(X_train_grey[i],15)\n",
    "#print(X_train_grey.shape[0])\n",
    "#X_train_grey=(X_train-128)/128\n",
    "#plt.imshow(X_train_grey[100],cmap='gray')\n",
    "#plt.show()\n",
    "\n",
    "#%matplotlib inline\n",
    "plt.imshow(dst)\n",
    "plt.show()\n",
    "\n",
    "X_valid_grey=X_valid[:,:,:,0]*0.299+X_valid[:,:,:,1]*0.587+X_valid[:,:,:,2]*0.114\n",
    "X_valid_grey=(X_valid_grey-128)/128\n",
    "X_valid_grey=X_valid_grey[:,:,:,newaxis]\n",
    "\n",
    "X_test_grey=X_test[:,:,:,0]*0.299+X_test[:,:,:,1]*0.587+X_test[:,:,:,2]*0.114\n",
    "plt.imshow(X_train_grey[0])\n",
    "plt.show()\n",
    "X_test_grey=(X_test_grey-128)/128\n",
    "X_test_grey=X_test_grey[:,:,:,newaxis]"
   ]
  },
  {
   "cell_type": "markdown",
   "metadata": {},
   "source": [
    "### Model Architecture"
   ]
  },
  {
   "cell_type": "code",
   "execution_count": 15,
   "metadata": {
    "collapsed": true
   },
   "outputs": [],
   "source": [
    "### Define your architecture here.\n",
    "### Feel free to use as many code cells as needed.\n",
    "def LeNet(x,keep_prob):\n",
    "    mu=0\n",
    "    sigma=0.1\n",
    "    #convolution 1\n",
    "    tf.cast(x,dtype=tf.float32)\n",
    "    conv1_w=tf.Variable(tf.truncated_normal(shape=(5,5,1,6),mean=mu, stddev=sigma))\n",
    "    conv1_b=tf.Variable(tf.zeros(6))\n",
    "    conv1=tf.nn.conv2d(x,conv1_w,strides=[1,1,1,1],padding='VALID')+conv1_b\n",
    "    #convolution 1 activation\n",
    "    conv1=tf.nn.relu(conv1)\n",
    "    #Max_Pooling end shape=[14,14,6]\n",
    "    conv1=tf.nn.max_pool(conv1,ksize=[1,2,2,1],strides=[1,2,2,1],padding='VALID')\n",
    "    #trying dropout\n",
    "    #conv1=tf.nn.dropout(conv1,keep_prob)\n",
    "    #print(conv1.get_shape())\n",
    "    #convolution 2 end_shape=[10,10,16]\n",
    "    conv2_w=tf.Variable(tf.truncated_normal(shape=(5,5,6,16),mean=mu,stddev=sigma))\n",
    "    conv2_b=tf.Variable(tf.zeros(16))\n",
    "    conv2=tf.nn.conv2d(conv1,conv2_w,strides=[1,1,1,1],padding='VALID')+conv2_b\n",
    "    #convolution 2 activation\n",
    "    conv2=tf.nn.relu(conv2)\n",
    "    # MaxPooling end shape=[5,5,16]\n",
    "    conv2=tf.nn.max_pool(conv2,ksize=[1,2,2,1],strides=[1,2,2,1],padding='VALID')\n",
    "    #trying dropout\n",
    "    #conv2=tf.nn.dropout(conv2,keep_prob)\n",
    "    #flatten the output end_shape=[400]\n",
    "    conv1_flat=tf.reshape(conv1,[-1,1176])\n",
    "    conv2_flat=tf.reshape(conv2,[-1,400])\n",
    "    img_flat=tf.reshape(x,[-1,1024])\n",
    "    #print(conv1_flat.dtype)\n",
    "    fc0=conv2_flat\n",
    "    #fc0=tf.concat(1,[conv1_flat,conv2_flat,img_flat])\n",
    "    #print(fc0.get_shape())\n",
    "    fc1_w=tf.Variable(tf.truncated_normal(shape=(400,120),mean=mu,stddev=sigma))\n",
    "    fc1_b=tf.Variable(tf.zeros(120))\n",
    "    #fully connected layer 1\n",
    "    fc1=tf.add(tf.matmul(fc0,fc1_w),fc1_b)\n",
    "    #fully connected layer 1 activation end_shape=120\n",
    "    fc1=tf.nn.relu(fc1)\n",
    "    #fully_connected_layer 2\n",
    "    #fc1=tf.nn.dropout(fc1,keep_prob)\n",
    "    fc2_w=tf.Variable(tf.truncated_normal(shape=(120,84),mean=mu,stddev=sigma))\n",
    "    fc2_b=tf.Variable(tf.zeros(84))\n",
    "    fc2=tf.add(tf.matmul(fc1,fc2_w),fc2_b)\n",
    "    #activation\n",
    "    fc2=tf.nn.relu(fc2)\n",
    "    #fully_connected_layer 3\n",
    "    fc2=tf.nn.dropout(fc2,keep_prob)\n",
    "    #fc2=tf.concat(1,[fc2,conv1_flat,conv2_flat])\n",
    "    fc3_w=tf.Variable(tf.truncated_normal(shape=(84,43),mean=mu,stddev=sigma))\n",
    "    fc3_b=tf.Variable(tf.zeros(43))\n",
    "    logits=tf.add(tf.matmul(fc2,fc3_w),fc3_b)\n",
    "    return logits\n",
    "    "
   ]
  },
  {
   "cell_type": "markdown",
   "metadata": {},
   "source": [
    "### Train, Validate and Test the Model"
   ]
  },
  {
   "cell_type": "markdown",
   "metadata": {},
   "source": [
    "A validation set can be used to assess how well the model is performing. A low accuracy on the training and validation\n",
    "sets imply underfitting. A high accuracy on the training set but low accuracy on the validation set implies overfitting."
   ]
  },
  {
   "cell_type": "code",
   "execution_count": 16,
   "metadata": {
    "collapsed": true
   },
   "outputs": [],
   "source": [
    "### Train your model here.\n",
    "### Calculate and report the accuracy on the training and validation set.\n",
    "### Once a final model architecture is selected, \n",
    "### the accuracy on the test set should be calculated and reported as well.\n",
    "### Feel free to use as many code cells as needed.\n",
    "x=tf.placeholder(tf.float32,(None,32,32,1))\n",
    "y=tf.placeholder(tf.int32,(None))\n",
    "keep_prob=tf.placeholder(tf.float32)\n",
    "one_hot_y=tf.one_hot(y,n_classes)"
   ]
  },
  {
   "cell_type": "code",
   "execution_count": 17,
   "metadata": {
    "collapsed": true
   },
   "outputs": [],
   "source": [
    "rate=0.001\n",
    "\n",
    "logits=LeNet(x,keep_prob)\n",
    "cross_entropy=tf.nn.softmax_cross_entropy_with_logits(labels=one_hot_y,logits=logits)\n",
    "loss_operation=tf.reduce_mean(cross_entropy)\n",
    "optimizer=tf.train.AdamOptimizer(learning_rate=rate)\n",
    "training_operation=optimizer.minimize(loss_operation)"
   ]
  },
  {
   "cell_type": "code",
   "execution_count": 18,
   "metadata": {
    "collapsed": true
   },
   "outputs": [],
   "source": [
    "#model evaluation\n",
    "#logits=LeNet(x,0.5)\n",
    "correct_prediction=tf.equal(tf.argmax(logits,1),tf.argmax(one_hot_y,1))\n",
    "accuracy_operation=tf.reduce_mean(tf.cast(correct_prediction,tf.float32))\n",
    "\n",
    "\n",
    "BATCH_SIZE=128\n",
    "epochs=5\n",
    "\n",
    "def evaluate(X_data,y_data,BATCH_SIZE):\n",
    "    num_examples=len(X_data)\n",
    "    total_accuracy=0\n",
    "    sess=tf.get_default_session()\n",
    "    for offset in range(0,num_examples, BATCH_SIZE):\n",
    "        batch_x,batch_y=X_data[offset:offset+BATCH_SIZE],y_data[offset:offset+BATCH_SIZE]\n",
    "        #print(batch_y)\n",
    "        accuracy=sess.run(accuracy_operation,feed_dict={x:batch_x,y:batch_y,keep_prob:1})\n",
    "        total_accuracy+=(accuracy*BATCH_SIZE)\n",
    "    total_accuracy=total_accuracy/num_examples\n",
    "    return total_accuracy\n",
    "\n"
   ]
  },
  {
   "cell_type": "code",
   "execution_count": 19,
   "metadata": {},
   "outputs": [
    {
     "data": {
      "text/plain": [
       "'\\n#model evaluation\\n#logits=LeNet(x,0.5)\\ncorrect_prediction=tf.equal(tf.argmax(logits,1),tf.argmax(one_hot_y,1))\\naccuracy_operation=tf.reduce_mean(tf.cast(correct_prediction,tf.float32))\\n\\n\\nBATCH_SIZE=128\\nepochs=10\\n\\ndef evaluate(X_data,y_data):\\n    print(\"entered evaluation\")\\n    num_examples=len(X_data)\\n    sess=tf.get_default_session()\\n    accuracy=sess.run(accuracy_operation,feed_dict={x:X_data,y:y_data,keep_prob:1})\\n    return accuracy\\n'"
      ]
     },
     "execution_count": 19,
     "metadata": {},
     "output_type": "execute_result"
    }
   ],
   "source": [
    "\"\"\"\n",
    "#model evaluation\n",
    "#logits=LeNet(x,0.5)\n",
    "correct_prediction=tf.equal(tf.argmax(logits,1),tf.argmax(one_hot_y,1))\n",
    "accuracy_operation=tf.reduce_mean(tf.cast(correct_prediction,tf.float32))\n",
    "\n",
    "\n",
    "BATCH_SIZE=128\n",
    "epochs=10\n",
    "\n",
    "def evaluate(X_data,y_data):\n",
    "    print(\"entered evaluation\")\n",
    "    num_examples=len(X_data)\n",
    "    sess=tf.get_default_session()\n",
    "    accuracy=sess.run(accuracy_operation,feed_dict={x:X_data,y:y_data,keep_prob:1})\n",
    "    return accuracy\n",
    "\"\"\""
   ]
  },
  {
   "cell_type": "code",
   "execution_count": 20,
   "metadata": {},
   "outputs": [
    {
     "name": "stdout",
     "output_type": "stream",
     "text": [
      "Training...\n",
      "\n",
      "evaluating...\n",
      "Epoch:1\n",
      "Training accuracy=0.7697795498607152\n",
      "Validation accuracy=0.7427633116845371\n",
      "evaluating...\n",
      "Epoch:2\n",
      "Training accuracy=0.8981315864701769\n",
      "Validation accuracy=0.8579560554487095\n",
      "evaluating...\n",
      "Epoch:3\n",
      "Training accuracy=0.9331149880086325\n",
      "Validation accuracy=0.8877081873195242\n",
      "evaluating...\n",
      "Epoch:4\n",
      "Training accuracy=0.9549855036812133\n",
      "Validation accuracy=0.9203143320927004\n",
      "evaluating...\n",
      "Epoch:5\n",
      "Training accuracy=0.9641236973074668\n",
      "Validation accuracy=0.9195871452625647\n",
      "model saved\n"
     ]
    }
   ],
   "source": [
    "from sklearn.utils import shuffle\n",
    "with tf.Session() as sess:\n",
    "    sess.run(tf.global_variables_initializer())\n",
    "    num_examples=len(X_train)\n",
    "    \n",
    "    print(\"Training...\")\n",
    "    print()\n",
    "    for i in range(epochs):\n",
    "        X_train_grey,y_train=shuffle(X_train_grey,y_train)\n",
    "        for offset in range(0,num_examples,BATCH_SIZE):\n",
    "            end=offset + BATCH_SIZE\n",
    "            batch_x,batch_y=X_train_grey[offset:end],y_train[offset:end]\n",
    "            sess.run(training_operation,feed_dict={x:batch_x,y:batch_y,keep_prob:0.5})\n",
    "        print(\"evaluating...\")\n",
    "        acc_train=evaluate(X_train_grey,y_train,128)\n",
    "        acc=evaluate(X_valid_grey,y_valid,128)\n",
    "        print(\"Epoch:{}\".format(i+1))\n",
    "        print(\"Training accuracy={}\".format(acc_train))\n",
    "        print(\"Validation accuracy={}\".format(acc))\n",
    "    saver=tf.train.Saver()\n",
    "    saver.save(sess,'./lenet')\n",
    "    print(\"model saved\")\n",
    "    "
   ]
  },
  {
   "cell_type": "code",
   "execution_count": 21,
   "metadata": {
    "collapsed": true
   },
   "outputs": [],
   "source": [
    "#with tf.Session() as sess:\n",
    "    #saver.restore()\n",
    "    #logit_run=sess.run(logits,feed_dict={x:X_valid_grey,keep_prob:1})\n",
    "    #print(logit_run.shape)\n",
    "    #print(logit_run[0])"
   ]
  },
  {
   "cell_type": "markdown",
   "metadata": {},
   "source": [
    "---\n",
    "\n",
    "## Step 3: Test a Model on New Images\n",
    "\n",
    "To give yourself more insight into how your model is working, download at least five pictures of German traffic signs from the web and use your model to predict the traffic sign type.\n",
    "\n",
    "You may find `signnames.csv` useful as it contains mappings from the class id (integer) to the actual sign name."
   ]
  },
  {
   "cell_type": "code",
   "execution_count": 78,
   "metadata": {},
   "outputs": [
    {
     "name": "stdout",
     "output_type": "stream",
     "text": [
      "ClassId,SignName\n",
      "0,Speed, limit, (20km/h)\n",
      "1,Speed, limit, (30km/h)\n",
      "2,Speed, limit, (50km/h)\n",
      "3,Speed, limit, (60km/h)\n",
      "4,Speed, limit, (70km/h)\n",
      "5,Speed, limit, (80km/h)\n",
      "6,End, of, speed, limit, (80km/h)\n",
      "7,Speed, limit, (100km/h)\n",
      "8,Speed, limit, (120km/h)\n",
      "9,No, passing\n",
      "10,No, passing, for, vehicles, over, 3.5, metric, tons\n",
      "11,Right-of-way, at, the, next, intersection\n",
      "12,Priority, road\n",
      "13,Yield\n",
      "14,Stop\n",
      "15,No, vehicles\n",
      "16,Vehicles, over, 3.5, metric, tons, prohibited\n",
      "17,No, entry\n",
      "18,General, caution\n",
      "19,Dangerous, curve, to, the, left\n",
      "20,Dangerous, curve, to, the, right\n",
      "21,Double, curve\n",
      "22,Bumpy, road\n",
      "23,Slippery, road\n",
      "24,Road, narrows, on, the, right\n",
      "25,Road, work\n",
      "26,Traffic, signals\n",
      "27,Pedestrians\n",
      "28,Children, crossing\n",
      "29,Bicycles, crossing\n",
      "30,Beware, of, ice/snow\n",
      "31,Wild, animals, crossing\n",
      "32,End, of, all, speed, and, passing, limits\n",
      "33,Turn, right, ahead\n",
      "34,Turn, left, ahead\n",
      "35,Ahead, only\n",
      "36,Go, straight, or, right\n",
      "37,Go, straight, or, left\n",
      "38,Keep, right\n",
      "39,Keep, left\n",
      "40,Roundabout, mandatory\n",
      "41,End, of, no, passing\n",
      "42,End, of, no, passing, by, vehicles, over, 3.5, metric, tons\n"
     ]
    }
   ],
   "source": [
    "import csv\n",
    "with open('signnames.csv', newline='') as csvfile:\n",
    "    \n",
    "    spamreader = csv.reader(csvfile, delimiter=' ', quotechar='|')\n",
    "    for row in spamreader:\n",
    "        print(', '.join(row))"
   ]
  },
  {
   "cell_type": "markdown",
   "metadata": {},
   "source": [
    "### Load and Output the Images"
   ]
  },
  {
   "cell_type": "code",
   "execution_count": 82,
   "metadata": {},
   "outputs": [
    {
     "data": {
      "image/png": "[encoded data removed]",
      "text/plain": [
       "<matplotlib.figure.Figure at 0x1c3f9828>"
      ]
     },
     "metadata": {},
     "output_type": "display_data"
    },
    {
     "data": {
      "image/png": "[encoded data removed]",
      "text/plain": [
       "<matplotlib.figure.Figure at 0x1c3b7208>"
      ]
     },
     "metadata": {},
     "output_type": "display_data"
    },
    {
     "data": {
      "image/png": "[encoded data removed]",
      "text/plain": [
       "<matplotlib.figure.Figure at 0x1139d2b0>"
      ]
     },
     "metadata": {},
     "output_type": "display_data"
    },
    {
     "data": {
      "image/png": "[encoded data removed]",
      "text/plain": [
       "<matplotlib.figure.Figure at 0x1122f978>"
      ]
     },
     "metadata": {},
     "output_type": "display_data"
    },
    {
     "data": {
      "image/png": "[encoded data removed]",
      "text/plain": [
       "<matplotlib.figure.Figure at 0x19e61ac8>"
      ]
     },
     "metadata": {},
     "output_type": "display_data"
    },
    {
     "data": {
      "image/png": "[encoded data removed]",
      "text/plain": [
       "<matplotlib.figure.Figure at 0x12c4bc50>"
      ]
     },
     "metadata": {},
     "output_type": "display_data"
    },
    {
     "data": {
      "image/png": "[encoded data removed]",
      "text/plain": [
       "<matplotlib.figure.Figure at 0x12f910b8>"
      ]
     },
     "metadata": {},
     "output_type": "display_data"
    },
    {
     "name": "stdout",
     "output_type": "stream",
     "text": [
      "(13, 32, 32, 3)\n"
     ]
    },
    {
     "data": {
      "image/png": "[encoded data removed]",
      "text/plain": [
       "<matplotlib.figure.Figure at 0x117052b0>"
      ]
     },
     "metadata": {},
     "output_type": "display_data"
    },
    {
     "name": "stdout",
     "output_type": "stream",
     "text": [
      "(13, 32, 32, 1)\n"
     ]
    }
   ],
   "source": [
    "### Load the images and plot them here.\n",
    "### Feel free to use as many code cells as needed.\n",
    "\n",
    "import os,os.path\n",
    "import matplotlib.pyplot\n",
    "import cv2\n",
    "from PIL import Image\n",
    "path1 =\"C:/Users/Akash/gtsrb_test/\"\n",
    "listing=os.listdir(path1)\n",
    "X_img_test=[]\n",
    "for img in listing:\n",
    "    im=cv2.imread(path1+img,1)\n",
    "    im=cv2.resize(im,(32,32))\n",
    "    X_img_test.append(im)\n",
    "\n",
    "plt.imshow(X_img_test[0])\n",
    "plt.show()\n",
    "plt.imshow(X_img_test[1])\n",
    "plt.show()\n",
    "plt.imshow(X_img_test[2])\n",
    "plt.show()\n",
    "plt.imshow(X_img_test[3])\n",
    "plt.show()\n",
    "plt.imshow(X_img_test[4])\n",
    "plt.show()\n",
    "plt.imshow(X_img_test[5])\n",
    "plt.show()\n",
    "plt.imshow(X_img_test[9])\n",
    "plt.show()\n",
    "\n",
    "X_img_test=np.asarray(X_img_test)\n",
    "#\n",
    "print(X_img_test.shape)\n",
    "X_img_grey=X_img_test[:,:,:,0]*0.299+X_img_test[:,:,:,1]*0.587+X_img_test[:,:,:,2]*0.114\n",
    "plt.imshow(X_img_grey[1],cmap='gray')\n",
    "plt.show()\n",
    "X_img_grey=(X_img_grey-128)/128\n",
    "X_img_grey=X_img_grey[:,:,:,newaxis]\n",
    "#X_img_grey=X_img_test[:,:,:,:,0]*0.299+X_img_test[:,:,:,1]*0.587+X_img_test[:,:,:,2]*0.114\n",
    "print(X_img_grey.shape)\n",
    "#X_img_test=np.append(X_img_test,X_test_grey[0],axis=1)#,X_valid_grey[0])\n",
    "\n",
    "#\n",
    "\n",
    "\n",
    "#plt.imshow(X_img_test[0])\n",
    "#plt.show()\n"
   ]
  },
  {
   "cell_type": "markdown",
   "metadata": {},
   "source": [
    "### Predict the Sign Type for Each Image"
   ]
  },
  {
   "cell_type": "code",
   "execution_count": 83,
   "metadata": {},
   "outputs": [
    {
     "name": "stdout",
     "output_type": "stream",
     "text": [
      "[31  2  2 16  1 28 17 42 10  3 28  3 34]\n"
     ]
    }
   ],
   "source": [
    "### Run the predictions here and use the model to output the prediction for each image.\n",
    "### Make sure to pre-process the images with the same pre-processing pipeline used earlier.\n",
    "### Feel free to use as many code cells as needed.\n",
    "\"\"\"\n",
    "# preprocess the data\n",
    "X_test_sample=X_test_grey[0:12]\n",
    "\"\"\"\n",
    "#y_test_sample=y_test[0:12]\n",
    "#passing the images through the graph\n",
    "#X_img_test=X_img_test.astype(np.float32)\n",
    "#print(X_img_test.dtype)\n",
    "#predict_logits=LeNet(x,keep_prob)\n",
    "predict_logits_soft=tf.nn.softmax(logits)\n",
    "\n",
    "with tf.Session() as sess:\n",
    "    #sess.run(tf.global_variables_initializer())\n",
    "    new_saver = tf.train.import_meta_graph('lenet.meta')\n",
    "    new_saver.restore(sess,tf.train.latest_checkpoint('.'))\n",
    "    sign=sess.run(predict_logits_soft,feed_dict={x:X_img_grey,keep_prob:1})\n",
    "    #print(sign)\n",
    "    #acc_test=evaluate(X_img,y_test_sample,1)\n",
    "    #test_acc=sess.run(acc_test,feed_dict={x:X_test_grey,keep_prob:1})\n",
    "    #print(acc_test)\n",
    "    sign_max=np.argmax(sign,axis=1)\n",
    "    print(sign_max)\n"
   ]
  },
  {
   "cell_type": "markdown",
   "metadata": {},
   "source": [
    "### Analyze Performance"
   ]
  },
  {
   "cell_type": "code",
   "execution_count": null,
   "metadata": {
    "collapsed": true
   },
   "outputs": [],
   "source": [
    "### Calculate the accuracy for these 5 new images. \n",
    "### For example, if the model predicted 1 out of 5 signs correctly, it's 20% accurate on these new images.\n"
   ]
  },
  {
   "cell_type": "markdown",
   "metadata": {},
   "source": [
    "### Output Top 5 Softmax Probabilities For Each Image Found on the Web"
   ]
  },
  {
   "cell_type": "markdown",
   "metadata": {},
   "source": [
    "For each of the new images, print out the model's softmax probabilities to show the **certainty** of the model's predictions (limit the output to the top 5 probabilities for each image). [`tf.nn.top_k`](https://www.tensorflow.org/versions/r0.12/api_docs/python/nn.html#top_k) could prove helpful here. \n",
    "\n",
    "The example below demonstrates how tf.nn.top_k can be used to find the top k predictions for each image.\n",
    "\n",
    "`tf.nn.top_k` will return the values and indices (class ids) of the top k predictions. So if k=3, for each sign, it'll return the 3 largest probabilities (out of a possible 43) and the correspoding class ids.\n",
    "\n",
    "Take this numpy array as an example. The values in the array represent predictions. The array contains softmax probabilities for five candidate images with six possible classes. `tf.nn.top_k` is used to choose the three classes with the highest probability:\n",
    "\n",
    "```\n",
    "# (5, 6) array\n",
    "a = np.array([[ 0.24879643,  0.07032244,  0.12641572,  0.34763842,  0.07893497,\n",
    "         0.12789202],\n",
    "       [ 0.28086119,  0.27569815,  0.08594638,  0.0178669 ,  0.18063401,\n",
    "         0.15899337],\n",
    "       [ 0.26076848,  0.23664738,  0.08020603,  0.07001922,  0.1134371 ,\n",
    "         0.23892179],\n",
    "       [ 0.11943333,  0.29198961,  0.02605103,  0.26234032,  0.1351348 ,\n",
    "         0.16505091],\n",
    "       [ 0.09561176,  0.34396535,  0.0643941 ,  0.16240774,  0.24206137,\n",
    "         0.09155967]])\n",
    "```\n",
    "\n",
    "Running it through `sess.run(tf.nn.top_k(tf.constant(a), k=3))` produces:\n",
    "\n",
    "```\n",
    "TopKV2(values=array([[ 0.34763842,  0.24879643,  0.12789202],\n",
    "       [ 0.28086119,  0.27569815,  0.18063401],\n",
    "       [ 0.26076848,  0.23892179,  0.23664738],\n",
    "       [ 0.29198961,  0.26234032,  0.16505091],\n",
    "       [ 0.34396535,  0.24206137,  0.16240774]]), indices=array([[3, 0, 5],\n",
    "       [0, 1, 4],\n",
    "       [0, 5, 1],\n",
    "       [1, 3, 5],\n",
    "       [1, 4, 3]], dtype=int32))\n",
    "```\n",
    "\n",
    "Looking just at the first row we get `[ 0.34763842,  0.24879643,  0.12789202]`, you can confirm these are the 3 largest probabilities in `a`. You'll also notice `[3, 0, 5]` are the corresponding indices."
   ]
  },
  {
   "cell_type": "code",
   "execution_count": 27,
   "metadata": {},
   "outputs": [
    {
     "name": "stdout",
     "output_type": "stream",
     "text": [
      "TopKV2(values=array([[  9.85218108e-01,   1.47109022e-02,   4.34119975e-05,\n",
      "          8.38645246e-06,   7.43318151e-06],\n",
      "       [  9.65727329e-01,   8.27323273e-03,   6.95306715e-03,\n",
      "          6.46943552e-03,   4.74590948e-03],\n",
      "       [  9.75647688e-01,   1.76173244e-02,   5.74459648e-03,\n",
      "          6.99430006e-04,   1.61004122e-04],\n",
      "       [  9.24375594e-01,   7.55602941e-02,   2.70364762e-05,\n",
      "          1.41028213e-05,   8.55786493e-06],\n",
      "       [  9.96678233e-01,   3.26572778e-03,   4.49977269e-05,\n",
      "          9.89654473e-06,   8.70408087e-07]], dtype=float32), indices=array([[ 4,  1, 40, 18,  0],\n",
      "       [29, 24, 22, 28, 18],\n",
      "       [ 9, 10, 23, 20, 19],\n",
      "       [ 4,  1,  8,  0, 40],\n",
      "       [17, 12, 14, 13,  1]]))\n"
     ]
    }
   ],
   "source": [
    "### Print out the top five softmax probabilities for the predictions on the German traffic sign images found on the web. \n",
    "### Feel free to use as many code cells as needed.\n",
    "with tf.Session() as sess:\n",
    "    new_saver = tf.train.import_meta_graph('lenet.meta')\n",
    "    new_saver.restore(sess,tf.train.latest_checkpoint('.'))\n",
    "    test_soft=sess.run(predict_logits_soft,feed_dict={x:X_img_test,keep_prob:1})\n",
    "    topk=sess.run(tf.nn.top_k(tf.constant(test_soft),k=5))\n",
    "    print(topk)\n"
   ]
  },
  {
   "cell_type": "markdown",
   "metadata": {},
   "source": [
    "### Project Writeup\n",
    "\n",
    "Once you have completed the code implementation, document your results in a project writeup using this [template](https://github.com/udacity/CarND-Traffic-Sign-Classifier-Project/blob/master/writeup_template.md) as a guide. The writeup can be in a markdown or pdf file. "
   ]
  },
  {
   "cell_type": "markdown",
   "metadata": {},
   "source": [
    "> **Note**: Once you have completed all of the code implementations and successfully answered each question above, you may finalize your work by exporting the iPython Notebook as an HTML document. You can do this by using the menu above and navigating to  \\n\",\n",
    "    \"**File -> Download as -> HTML (.html)**. Include the finished document along with this notebook as your submission."
   ]
  },
  {
   "cell_type": "markdown",
   "metadata": {},
   "source": [
    "---\n",
    "\n",
    "## Step 4 (Optional): Visualize the Neural Network's State with Test Images\n",
    "\n",
    " This Section is not required to complete but acts as an additional excersise for understaning the output of a neural network's weights. While neural networks can be a great learning device they are often referred to as a black box. We can understand what the weights of a neural network look like better by plotting their feature maps. After successfully training your neural network you can see what it's feature maps look like by plotting the output of the network's weight layers in response to a test stimuli image. From these plotted feature maps, it's possible to see what characteristics of an image the network finds interesting. For a sign, maybe the inner network feature maps react with high activation to the sign's boundary outline or to the contrast in the sign's painted symbol.\n",
    "\n",
    " Provided for you below is the function code that allows you to get the visualization output of any tensorflow weight layer you want. The inputs to the function should be a stimuli image, one used during training or a new one you provided, and then the tensorflow variable name that represents the layer's state during the training process, for instance if you wanted to see what the [LeNet lab's](https://classroom.udacity.com/nanodegrees/nd013/parts/fbf77062-5703-404e-b60c-95b78b2f3f9e/modules/6df7ae49-c61c-4bb2-a23e-6527e69209ec/lessons/601ae704-1035-4287-8b11-e2c2716217ad/concepts/d4aca031-508f-4e0b-b493-e7b706120f81) feature maps looked like for it's second convolutional layer you could enter conv2 as the tf_activation variable.\n",
    "\n",
    "For an example of what feature map outputs look like, check out NVIDIA's results in their paper [End-to-End Deep Learning for Self-Driving Cars](https://devblogs.nvidia.com/parallelforall/deep-learning-self-driving-cars/) in the section Visualization of internal CNN State. NVIDIA was able to show that their network's inner weights had high activations to road boundary lines by comparing feature maps from an image with a clear path to one without. Try experimenting with a similar test to show that your trained network's weights are looking for interesting features, whether it's looking at differences in feature maps from images with or without a sign, or even what feature maps look like in a trained network vs a completely untrained one on the same sign image.\n",
    "\n",
    "<figure>\n",
    " <img src=\"visualize_cnn.png\" width=\"380\" alt=\"Combined Image\" />\n",
    " <figcaption>\n",
    " <p></p> \n",
    " <p style=\"text-align: center;\"> Your output should look something like this (above)</p> \n",
    " </figcaption>\n",
    "</figure>\n",
    " <p></p> \n"
   ]
  },
  {
   "cell_type": "code",
   "execution_count": null,
   "metadata": {
    "collapsed": true
   },
   "outputs": [],
   "source": [
    "### Visualize your network's feature maps here.\n",
    "### Feel free to use as many code cells as needed.\n",
    "\n",
    "# image_input: the test image being fed into the network to produce the feature maps\n",
    "# tf_activation: should be a tf variable name used during your training procedure that represents the calculated state of a specific weight layer\n",
    "# activation_min/max: can be used to view the activation contrast in more detail, by default matplot sets min and max to the actual min and max values of the output\n",
    "# plt_num: used to plot out multiple different weight feature map sets on the same block, just extend the plt number for each new feature map entry\n",
    "\n",
    "def outputFeatureMap(image_input, tf_activation, activation_min=-1, activation_max=-1 ,plt_num=1):\n",
    "    # Here make sure to preprocess your image_input in a way your network expects\n",
    "    # with size, normalization, ect if needed\n",
    "    # Note: x should be the same name as your network's tensorflow data placeholder variable\n",
    "    # If you get an error tf_activation is not defined it may be having trouble accessing the variable from inside a function\n",
    "    activation = tf_activation.eval(session=sess,feed_dict={x : image_input})\n",
    "    featuremaps = activation.shape[3]\n",
    "    plt.figure(plt_num, figsize=(15,15))\n",
    "    for featuremap in range(featuremaps):\n",
    "        plt.subplot(6,8, featuremap+1) # sets the number of feature maps to show on each row and column\n",
    "        plt.title('FeatureMap ' + str(featuremap)) # displays the feature map number\n",
    "        if activation_min != -1 & activation_max != -1:\n",
    "            plt.imshow(activation[0,:,:, featuremap], interpolation=\"nearest\", vmin =activation_min, vmax=activation_max, cmap=\"gray\")\n",
    "        elif activation_max != -1:\n",
    "            plt.imshow(activation[0,:,:, featuremap], interpolation=\"nearest\", vmax=activation_max, cmap=\"gray\")\n",
    "        elif activation_min !=-1:\n",
    "            plt.imshow(activation[0,:,:, featuremap], interpolation=\"nearest\", vmin=activation_min, cmap=\"gray\")\n",
    "        else:\n",
    "            plt.imshow(activation[0,:,:, featuremap], interpolation=\"nearest\", cmap=\"gray\")"
   ]
  },
  {
   "cell_type": "code",
   "execution_count": null,
   "metadata": {
    "collapsed": true
   },
   "outputs": [],
   "source": []
  },
  {
   "cell_type": "code",
   "execution_count": null,
   "metadata": {
    "collapsed": true
   },
   "outputs": [],
   "source": []
  }
 ],
 "metadata": {
  "anaconda-cloud": {},
  "kernelspec": {
   "display_name": "Python 3",
   "language": "python",
   "name": "python3"
  },
  "language_info": {
   "codemirror_mode": {
    "name": "ipython",
    "version": 3
   },
   "file_extension": ".py",
   "mimetype": "text/x-python",
   "name": "python",
   "nbconvert_exporter": "python",
   "pygments_lexer": "ipython3",
   "version": "3.5.2"
  },
  "widgets": {
   "state": {},
   "version": "1.1.2"
  }
 },
 "nbformat": 4,
 "nbformat_minor": 1
}
